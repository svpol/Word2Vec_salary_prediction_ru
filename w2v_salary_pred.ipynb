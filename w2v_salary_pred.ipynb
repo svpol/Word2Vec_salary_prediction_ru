{
 "cells": [
  {
   "cell_type": "markdown",
   "id": "2ba25adc",
   "metadata": {},
   "source": [
    "# Salary prediction by vacancy name, key skills, experience and description based on Word2Vec model"
   ]
  },
  {
   "cell_type": "code",
   "execution_count": 174,
   "id": "6d0a2176",
   "metadata": {},
   "outputs": [],
   "source": [
    "import pandas as pd\n",
    "\n",
    "import re\n",
    "\n",
    "from gensim.models import Word2Vec\n",
    "\n",
    "# import nltk\n",
    "# nltk.download('punkt')\n",
    "# nltk.download('stopwords')\n",
    "# nltk.download('wordnet')\n",
    "# nltk.download('omw-1.4')\n",
    "from nltk.corpus import stopwords\n",
    "from nltk.tokenize import word_tokenize\n",
    "\n",
    "from pymorphy2 import MorphAnalyzer\n",
    "\n",
    "from sklearn.model_selection import train_test_split\n",
    "from sklearn.linear_model import Lasso, LinearRegression\n",
    "\n",
    "from tqdm import tqdm\n",
    "\n",
    "import numpy as np\n",
    "import seaborn as sns\n",
    "import matplotlib.pyplot as plt"
   ]
  },
  {
   "cell_type": "code",
   "execution_count": 54,
   "id": "b914588a",
   "metadata": {},
   "outputs": [],
   "source": [
    "RANDOM_STATE = 42"
   ]
  },
  {
   "cell_type": "markdown",
   "id": "e7bec956",
   "metadata": {},
   "source": [
    "## 1. Data overview"
   ]
  },
  {
   "cell_type": "code",
   "execution_count": 39,
   "id": "9fe26d59",
   "metadata": {},
   "outputs": [],
   "source": [
    "df = pd.read_csv('vacancies.csv')"
   ]
  },
  {
   "cell_type": "code",
   "execution_count": 4,
   "id": "89e3eacd",
   "metadata": {},
   "outputs": [
    {
     "data": {
      "text/html": [
       "<div>\n",
       "<style scoped>\n",
       "    .dataframe tbody tr th:only-of-type {\n",
       "        vertical-align: middle;\n",
       "    }\n",
       "\n",
       "    .dataframe tbody tr th {\n",
       "        vertical-align: top;\n",
       "    }\n",
       "\n",
       "    .dataframe thead th {\n",
       "        text-align: right;\n",
       "    }\n",
       "</style>\n",
       "<table border=\"1\" class=\"dataframe\">\n",
       "  <thead>\n",
       "    <tr style=\"text-align: right;\">\n",
       "      <th></th>\n",
       "      <th>name</th>\n",
       "      <th>experience</th>\n",
       "      <th>schedule</th>\n",
       "      <th>employment</th>\n",
       "      <th>description</th>\n",
       "      <th>key_skills</th>\n",
       "      <th>salary</th>\n",
       "    </tr>\n",
       "  </thead>\n",
       "  <tbody>\n",
       "    <tr>\n",
       "      <th>0</th>\n",
       "      <td>Водитель-экспедитор</td>\n",
       "      <td>От 3 до 6 лет</td>\n",
       "      <td>Полный день</td>\n",
       "      <td>Полная занятость</td>\n",
       "      <td>Водитель-экспедитор категории В,С (а\\м ГАЗЕЛЬ ...</td>\n",
       "      <td>[]</td>\n",
       "      <td>42500.0</td>\n",
       "    </tr>\n",
       "    <tr>\n",
       "      <th>1</th>\n",
       "      <td>Кладовщик-комплектовщик/оператор 1С</td>\n",
       "      <td>От 1 года до 3 лет</td>\n",
       "      <td>Полный день</td>\n",
       "      <td>Полная занятость</td>\n",
       "      <td>Обязанности:   Списывание материалов в произво...</td>\n",
       "      <td>['знание пк', 'работа в 1С', 'Работа в команде...</td>\n",
       "      <td>50000.0</td>\n",
       "    </tr>\n",
       "    <tr>\n",
       "      <th>2</th>\n",
       "      <td>Продавец магазина \"Магнит\" (Кировский р-он, В....</td>\n",
       "      <td>Нет опыта</td>\n",
       "      <td>Сменный график</td>\n",
       "      <td>Полная занятость</td>\n",
       "      <td>В крупнейшую Федеральную сеть магазинов \"Магни...</td>\n",
       "      <td>[]</td>\n",
       "      <td>31500.0</td>\n",
       "    </tr>\n",
       "    <tr>\n",
       "      <th>3</th>\n",
       "      <td>Администратор магазина (ТЦ Spar)</td>\n",
       "      <td>От 1 года до 3 лет</td>\n",
       "      <td>Полный день</td>\n",
       "      <td>Полная занятость</td>\n",
       "      <td>Крупная федеральная сеть магазинов мужской и ж...</td>\n",
       "      <td>[]</td>\n",
       "      <td>36700.0</td>\n",
       "    </tr>\n",
       "    <tr>\n",
       "      <th>4</th>\n",
       "      <td>Мойщик посуды (кулинария)</td>\n",
       "      <td>Нет опыта</td>\n",
       "      <td>Сменный график</td>\n",
       "      <td>Полная занятость</td>\n",
       "      <td>Обязанности:  Уборка производственных площадей...</td>\n",
       "      <td>['Пользователь ПК', 'Грамотная речь', 'Работа ...</td>\n",
       "      <td>37000.0</td>\n",
       "    </tr>\n",
       "  </tbody>\n",
       "</table>\n",
       "</div>"
      ],
      "text/plain": [
       "                                                name          experience  \\\n",
       "0                                Водитель-экспедитор       От 3 до 6 лет   \n",
       "1                Кладовщик-комплектовщик/оператор 1С  От 1 года до 3 лет   \n",
       "2  Продавец магазина \"Магнит\" (Кировский р-он, В....           Нет опыта   \n",
       "3                   Администратор магазина (ТЦ Spar)  От 1 года до 3 лет   \n",
       "4                          Мойщик посуды (кулинария)           Нет опыта   \n",
       "\n",
       "         schedule        employment  \\\n",
       "0     Полный день  Полная занятость   \n",
       "1     Полный день  Полная занятость   \n",
       "2  Сменный график  Полная занятость   \n",
       "3     Полный день  Полная занятость   \n",
       "4  Сменный график  Полная занятость   \n",
       "\n",
       "                                         description  \\\n",
       "0  Водитель-экспедитор категории В,С (а\\м ГАЗЕЛЬ ...   \n",
       "1  Обязанности:   Списывание материалов в произво...   \n",
       "2  В крупнейшую Федеральную сеть магазинов \"Магни...   \n",
       "3  Крупная федеральная сеть магазинов мужской и ж...   \n",
       "4  Обязанности:  Уборка производственных площадей...   \n",
       "\n",
       "                                          key_skills   salary  \n",
       "0                                                 []  42500.0  \n",
       "1  ['знание пк', 'работа в 1С', 'Работа в команде...  50000.0  \n",
       "2                                                 []  31500.0  \n",
       "3                                                 []  36700.0  \n",
       "4  ['Пользователь ПК', 'Грамотная речь', 'Работа ...  37000.0  "
      ]
     },
     "execution_count": 4,
     "metadata": {},
     "output_type": "execute_result"
    }
   ],
   "source": [
    "df.head()"
   ]
  },
  {
   "cell_type": "code",
   "execution_count": 6,
   "id": "c9818bc1",
   "metadata": {},
   "outputs": [
    {
     "data": {
      "text/plain": [
       "(16629, 7)"
      ]
     },
     "execution_count": 6,
     "metadata": {},
     "output_type": "execute_result"
    }
   ],
   "source": [
    "df.shape"
   ]
  },
  {
   "cell_type": "code",
   "execution_count": 7,
   "id": "81012846",
   "metadata": {},
   "outputs": [
    {
     "name": "stdout",
     "output_type": "stream",
     "text": [
      "<class 'pandas.core.frame.DataFrame'>\n",
      "RangeIndex: 16629 entries, 0 to 16628\n",
      "Data columns (total 7 columns):\n",
      " #   Column       Non-Null Count  Dtype  \n",
      "---  ------       --------------  -----  \n",
      " 0   name         16629 non-null  object \n",
      " 1   experience   16629 non-null  object \n",
      " 2   schedule     16629 non-null  object \n",
      " 3   employment   16629 non-null  object \n",
      " 4   description  16629 non-null  object \n",
      " 5   key_skills   16629 non-null  object \n",
      " 6   salary       16629 non-null  float64\n",
      "dtypes: float64(1), object(6)\n",
      "memory usage: 909.5+ KB\n"
     ]
    }
   ],
   "source": [
    "df.info()"
   ]
  },
  {
   "cell_type": "markdown",
   "id": "83950c44",
   "metadata": {},
   "source": [
    "## 2. Data preprocessing"
   ]
  },
  {
   "cell_type": "markdown",
   "id": "086f05ed",
   "metadata": {},
   "source": [
    "### 2.1. Choose full-day and full-time vacancies only and check salary distrubition"
   ]
  },
  {
   "cell_type": "code",
   "execution_count": 43,
   "id": "2428b385",
   "metadata": {},
   "outputs": [],
   "source": [
    "df = df.loc[(df['schedule']=='Полный день') & (df['employment']=='Полная занятость')]"
   ]
  },
  {
   "cell_type": "code",
   "execution_count": 44,
   "id": "ab6b8905",
   "metadata": {},
   "outputs": [
    {
     "name": "stdout",
     "output_type": "stream",
     "text": [
      "<class 'pandas.core.frame.DataFrame'>\n",
      "Int64Index: 11090 entries, 0 to 16628\n",
      "Data columns (total 7 columns):\n",
      " #   Column       Non-Null Count  Dtype  \n",
      "---  ------       --------------  -----  \n",
      " 0   name         11090 non-null  object \n",
      " 1   experience   11090 non-null  object \n",
      " 2   schedule     11090 non-null  object \n",
      " 3   employment   11090 non-null  object \n",
      " 4   description  11090 non-null  object \n",
      " 5   key_skills   11090 non-null  object \n",
      " 6   salary       11090 non-null  float64\n",
      "dtypes: float64(1), object(6)\n",
      "memory usage: 693.1+ KB\n"
     ]
    }
   ],
   "source": [
    "df.info()"
   ]
  },
  {
   "cell_type": "code",
   "execution_count": 45,
   "id": "468ddfe2",
   "metadata": {},
   "outputs": [],
   "source": [
    "df = df.drop(['schedule', 'employment'], axis=1)"
   ]
  },
  {
   "cell_type": "code",
   "execution_count": 47,
   "id": "41fe42fd",
   "metadata": {},
   "outputs": [
    {
     "data": {
      "text/plain": [
       "<AxesSubplot:xlabel='salary', ylabel='Count'>"
      ]
     },
     "execution_count": 47,
     "metadata": {},
     "output_type": "execute_result"
    },
    {
     "data": {
      "image/png": "[encoded data removed]",
      "text/plain": [
       "<Figure size 640x480 with 1 Axes>"
      ]
     },
     "metadata": {},
     "output_type": "display_data"
    }
   ],
   "source": [
    "sns.histplot(df.salary, bins=100) # Distribition is close to normal, except for some outliers. But they can be real for top vacancies."
   ]
  },
  {
   "cell_type": "code",
   "execution_count": 48,
   "id": "5574e717",
   "metadata": {},
   "outputs": [
    {
     "data": {
      "text/html": [
       "<div>\n",
       "<style scoped>\n",
       "    .dataframe tbody tr th:only-of-type {\n",
       "        vertical-align: middle;\n",
       "    }\n",
       "\n",
       "    .dataframe tbody tr th {\n",
       "        vertical-align: top;\n",
       "    }\n",
       "\n",
       "    .dataframe thead th {\n",
       "        text-align: right;\n",
       "    }\n",
       "</style>\n",
       "<table border=\"1\" class=\"dataframe\">\n",
       "  <thead>\n",
       "    <tr style=\"text-align: right;\">\n",
       "      <th></th>\n",
       "      <th>name</th>\n",
       "      <th>experience</th>\n",
       "      <th>description</th>\n",
       "      <th>key_skills</th>\n",
       "      <th>salary</th>\n",
       "    </tr>\n",
       "  </thead>\n",
       "  <tbody>\n",
       "    <tr>\n",
       "      <th>0</th>\n",
       "      <td>Водитель-экспедитор</td>\n",
       "      <td>От 3 до 6 лет</td>\n",
       "      <td>Водитель-экспедитор категории В,С (а\\м ГАЗЕЛЬ ...</td>\n",
       "      <td>[]</td>\n",
       "      <td>42500.0</td>\n",
       "    </tr>\n",
       "    <tr>\n",
       "      <th>1</th>\n",
       "      <td>Кладовщик-комплектовщик/оператор 1С</td>\n",
       "      <td>От 1 года до 3 лет</td>\n",
       "      <td>Обязанности:   Списывание материалов в произво...</td>\n",
       "      <td>['знание пк', 'работа в 1С', 'Работа в команде...</td>\n",
       "      <td>50000.0</td>\n",
       "    </tr>\n",
       "    <tr>\n",
       "      <th>3</th>\n",
       "      <td>Администратор магазина (ТЦ Spar)</td>\n",
       "      <td>От 1 года до 3 лет</td>\n",
       "      <td>Крупная федеральная сеть магазинов мужской и ж...</td>\n",
       "      <td>[]</td>\n",
       "      <td>36700.0</td>\n",
       "    </tr>\n",
       "    <tr>\n",
       "      <th>5</th>\n",
       "      <td>Менеджер-администратор</td>\n",
       "      <td>От 1 года до 3 лет</td>\n",
       "      <td>Международная сеть Школ скорочтения и развития...</td>\n",
       "      <td>['Навыки межличностного общения', 'Грамотная р...</td>\n",
       "      <td>50000.0</td>\n",
       "    </tr>\n",
       "    <tr>\n",
       "      <th>6</th>\n",
       "      <td>Комплектовщик</td>\n",
       "      <td>Нет опыта</td>\n",
       "      <td>Мы прямой работодатель - компания «Форум-Авто»...</td>\n",
       "      <td>['1С: Склад', 'Работа с оргтехникой', 'Приемка...</td>\n",
       "      <td>53500.0</td>\n",
       "    </tr>\n",
       "  </tbody>\n",
       "</table>\n",
       "</div>"
      ],
      "text/plain": [
       "                                  name          experience  \\\n",
       "0                  Водитель-экспедитор       От 3 до 6 лет   \n",
       "1  Кладовщик-комплектовщик/оператор 1С  От 1 года до 3 лет   \n",
       "3     Администратор магазина (ТЦ Spar)  От 1 года до 3 лет   \n",
       "5               Менеджер-администратор  От 1 года до 3 лет   \n",
       "6                        Комплектовщик           Нет опыта   \n",
       "\n",
       "                                         description  \\\n",
       "0  Водитель-экспедитор категории В,С (а\\м ГАЗЕЛЬ ...   \n",
       "1  Обязанности:   Списывание материалов в произво...   \n",
       "3  Крупная федеральная сеть магазинов мужской и ж...   \n",
       "5  Международная сеть Школ скорочтения и развития...   \n",
       "6  Мы прямой работодатель - компания «Форум-Авто»...   \n",
       "\n",
       "                                          key_skills   salary  \n",
       "0                                                 []  42500.0  \n",
       "1  ['знание пк', 'работа в 1С', 'Работа в команде...  50000.0  \n",
       "3                                                 []  36700.0  \n",
       "5  ['Навыки межличностного общения', 'Грамотная р...  50000.0  \n",
       "6  ['1С: Склад', 'Работа с оргтехникой', 'Приемка...  53500.0  "
      ]
     },
     "execution_count": 48,
     "metadata": {},
     "output_type": "execute_result"
    }
   ],
   "source": [
    "df.head()"
   ]
  },
  {
   "cell_type": "code",
   "execution_count": 51,
   "id": "437c25b2",
   "metadata": {},
   "outputs": [],
   "source": [
    "df.reset_index(inplace = True, drop = True)"
   ]
  },
  {
   "cell_type": "markdown",
   "id": "a284b42f",
   "metadata": {},
   "source": [
    "### 2.2. Creating a new text column which unites vacancy name, experience, key skills and description"
   ]
  },
  {
   "cell_type": "code",
   "execution_count": 78,
   "id": "637233d2",
   "metadata": {},
   "outputs": [],
   "source": [
    "df['text'] = df['name'] + df['experience'] + df['key_skills'] + df['description']"
   ]
  },
  {
   "cell_type": "code",
   "execution_count": 79,
   "id": "9f06f66c",
   "metadata": {},
   "outputs": [
    {
     "data": {
      "text/html": [
       "<div>\n",
       "<style scoped>\n",
       "    .dataframe tbody tr th:only-of-type {\n",
       "        vertical-align: middle;\n",
       "    }\n",
       "\n",
       "    .dataframe tbody tr th {\n",
       "        vertical-align: top;\n",
       "    }\n",
       "\n",
       "    .dataframe thead th {\n",
       "        text-align: right;\n",
       "    }\n",
       "</style>\n",
       "<table border=\"1\" class=\"dataframe\">\n",
       "  <thead>\n",
       "    <tr style=\"text-align: right;\">\n",
       "      <th></th>\n",
       "      <th>name</th>\n",
       "      <th>experience</th>\n",
       "      <th>description</th>\n",
       "      <th>key_skills</th>\n",
       "      <th>salary</th>\n",
       "      <th>text</th>\n",
       "    </tr>\n",
       "  </thead>\n",
       "  <tbody>\n",
       "    <tr>\n",
       "      <th>0</th>\n",
       "      <td>Водитель-экспедитор</td>\n",
       "      <td>От 3 до 6 лет</td>\n",
       "      <td>Водитель-экспедитор категории В,С (а\\м ГАЗЕЛЬ ...</td>\n",
       "      <td>[]</td>\n",
       "      <td>42500.0</td>\n",
       "      <td>Водитель-экспедиторОт 3 до 6 лет[]Водитель-экс...</td>\n",
       "    </tr>\n",
       "    <tr>\n",
       "      <th>1</th>\n",
       "      <td>Кладовщик-комплектовщик/оператор 1С</td>\n",
       "      <td>От 1 года до 3 лет</td>\n",
       "      <td>Обязанности:   Списывание материалов в произво...</td>\n",
       "      <td>['знание пк', 'работа в 1С', 'Работа в команде...</td>\n",
       "      <td>50000.0</td>\n",
       "      <td>Кладовщик-комплектовщик/оператор 1СОт 1 года д...</td>\n",
       "    </tr>\n",
       "    <tr>\n",
       "      <th>2</th>\n",
       "      <td>Администратор магазина (ТЦ Spar)</td>\n",
       "      <td>От 1 года до 3 лет</td>\n",
       "      <td>Крупная федеральная сеть магазинов мужской и ж...</td>\n",
       "      <td>[]</td>\n",
       "      <td>36700.0</td>\n",
       "      <td>Администратор магазина (ТЦ Spar)От 1 года до 3...</td>\n",
       "    </tr>\n",
       "    <tr>\n",
       "      <th>3</th>\n",
       "      <td>Менеджер-администратор</td>\n",
       "      <td>От 1 года до 3 лет</td>\n",
       "      <td>Международная сеть Школ скорочтения и развития...</td>\n",
       "      <td>['Навыки межличностного общения', 'Грамотная р...</td>\n",
       "      <td>50000.0</td>\n",
       "      <td>Менеджер-администраторОт 1 года до 3 лет['Навы...</td>\n",
       "    </tr>\n",
       "    <tr>\n",
       "      <th>4</th>\n",
       "      <td>Комплектовщик</td>\n",
       "      <td>Нет опыта</td>\n",
       "      <td>Мы прямой работодатель - компания «Форум-Авто»...</td>\n",
       "      <td>['1С: Склад', 'Работа с оргтехникой', 'Приемка...</td>\n",
       "      <td>53500.0</td>\n",
       "      <td>КомплектовщикНет опыта['1С: Склад', 'Работа с ...</td>\n",
       "    </tr>\n",
       "  </tbody>\n",
       "</table>\n",
       "</div>"
      ],
      "text/plain": [
       "                                  name          experience  \\\n",
       "0                  Водитель-экспедитор       От 3 до 6 лет   \n",
       "1  Кладовщик-комплектовщик/оператор 1С  От 1 года до 3 лет   \n",
       "2     Администратор магазина (ТЦ Spar)  От 1 года до 3 лет   \n",
       "3               Менеджер-администратор  От 1 года до 3 лет   \n",
       "4                        Комплектовщик           Нет опыта   \n",
       "\n",
       "                                         description  \\\n",
       "0  Водитель-экспедитор категории В,С (а\\м ГАЗЕЛЬ ...   \n",
       "1  Обязанности:   Списывание материалов в произво...   \n",
       "2  Крупная федеральная сеть магазинов мужской и ж...   \n",
       "3  Международная сеть Школ скорочтения и развития...   \n",
       "4  Мы прямой работодатель - компания «Форум-Авто»...   \n",
       "\n",
       "                                          key_skills   salary  \\\n",
       "0                                                 []  42500.0   \n",
       "1  ['знание пк', 'работа в 1С', 'Работа в команде...  50000.0   \n",
       "2                                                 []  36700.0   \n",
       "3  ['Навыки межличностного общения', 'Грамотная р...  50000.0   \n",
       "4  ['1С: Склад', 'Работа с оргтехникой', 'Приемка...  53500.0   \n",
       "\n",
       "                                                text  \n",
       "0  Водитель-экспедиторОт 3 до 6 лет[]Водитель-экс...  \n",
       "1  Кладовщик-комплектовщик/оператор 1СОт 1 года д...  \n",
       "2  Администратор магазина (ТЦ Spar)От 1 года до 3...  \n",
       "3  Менеджер-администраторОт 1 года до 3 лет['Навы...  \n",
       "4  КомплектовщикНет опыта['1С: Склад', 'Работа с ...  "
      ]
     },
     "execution_count": 79,
     "metadata": {},
     "output_type": "execute_result"
    }
   ],
   "source": [
    "df.head()"
   ]
  },
  {
   "cell_type": "markdown",
   "id": "e94b9d56",
   "metadata": {},
   "source": [
    "### 2.3. Text preprocessing for further vectorization"
   ]
  },
  {
   "cell_type": "code",
   "execution_count": 80,
   "id": "8d2daadb",
   "metadata": {},
   "outputs": [],
   "source": [
    "morph = MorphAnalyzer()\n",
    "stop_words = set(stopwords.words('russian'))"
   ]
  },
  {
   "cell_type": "code",
   "execution_count": 81,
   "id": "41d3a366",
   "metadata": {},
   "outputs": [],
   "source": [
    "def preprocess_string(text):\n",
    "    \"\"\"\n",
    "    Preprocesses the text string for further Word2Vec analysis.\n",
    "    After the preprocessing the string contains words only and is lower-cased, tokenized, \n",
    "    without stop words and lemmatized.\n",
    "    param text: string to preprocess.\n",
    "    return: a preprocessed string.\n",
    "    \"\"\"\n",
    "    text = re.sub(r'http\\S+', '', text) # removing links\n",
    "    \n",
    "    text = re.sub('[^а-яА-ЯёЁa-zA-Z0-9]+', ' ', text) # saving words only\n",
    "    \n",
    "    text = word_tokenize(text.lower()) # tokenizing the text and turning to lower case\n",
    "    \n",
    "    text = [morph.normal_forms(token)[0] for token in text \n",
    "            if token not in stop_words and len(token) > 2]\n",
    "    text = \" \".join(text)\n",
    "    \n",
    "    return text"
   ]
  },
  {
   "cell_type": "code",
   "execution_count": 82,
   "id": "17d3ad94",
   "metadata": {},
   "outputs": [
    {
     "name": "stdout",
     "output_type": "stream",
     "text": [
      "Wall time: 4min 5s\n"
     ]
    }
   ],
   "source": [
    "%%time\n",
    "df['preprocessed_text'] = df['text'].apply(preprocess_string)"
   ]
  },
  {
   "cell_type": "code",
   "execution_count": 84,
   "id": "a58d4a79",
   "metadata": {},
   "outputs": [],
   "source": [
    "df = df.drop(['text'], axis=1)"
   ]
  },
  {
   "cell_type": "code",
   "execution_count": 85,
   "id": "dacf10b2",
   "metadata": {},
   "outputs": [
    {
     "data": {
      "text/html": [
       "<div>\n",
       "<style scoped>\n",
       "    .dataframe tbody tr th:only-of-type {\n",
       "        vertical-align: middle;\n",
       "    }\n",
       "\n",
       "    .dataframe tbody tr th {\n",
       "        vertical-align: top;\n",
       "    }\n",
       "\n",
       "    .dataframe thead th {\n",
       "        text-align: right;\n",
       "    }\n",
       "</style>\n",
       "<table border=\"1\" class=\"dataframe\">\n",
       "  <thead>\n",
       "    <tr style=\"text-align: right;\">\n",
       "      <th></th>\n",
       "      <th>name</th>\n",
       "      <th>experience</th>\n",
       "      <th>description</th>\n",
       "      <th>key_skills</th>\n",
       "      <th>salary</th>\n",
       "      <th>preprocessed_text</th>\n",
       "    </tr>\n",
       "  </thead>\n",
       "  <tbody>\n",
       "    <tr>\n",
       "      <th>0</th>\n",
       "      <td>Водитель-экспедитор</td>\n",
       "      <td>От 3 до 6 лет</td>\n",
       "      <td>Водитель-экспедитор категории В,С (а\\м ГАЗЕЛЬ ...</td>\n",
       "      <td>[]</td>\n",
       "      <td>42500.0</td>\n",
       "      <td>водитель экспедиторотый год водитель экспедито...</td>\n",
       "    </tr>\n",
       "    <tr>\n",
       "      <th>1</th>\n",
       "      <td>Кладовщик-комплектовщик/оператор 1С</td>\n",
       "      <td>От 1 года до 3 лет</td>\n",
       "      <td>Обязанности:   Списывание материалов в произво...</td>\n",
       "      <td>['знание пк', 'работа в 1С', 'Работа в команде...</td>\n",
       "      <td>50000.0</td>\n",
       "      <td>кладовщик комплектовщик оператор 1сотня год го...</td>\n",
       "    </tr>\n",
       "    <tr>\n",
       "      <th>2</th>\n",
       "      <td>Администратор магазина (ТЦ Spar)</td>\n",
       "      <td>От 1 года до 3 лет</td>\n",
       "      <td>Крупная федеральная сеть магазинов мужской и ж...</td>\n",
       "      <td>[]</td>\n",
       "      <td>36700.0</td>\n",
       "      <td>администратор магазин spar год год крупный фед...</td>\n",
       "    </tr>\n",
       "    <tr>\n",
       "      <th>3</th>\n",
       "      <td>Менеджер-администратор</td>\n",
       "      <td>От 1 года до 3 лет</td>\n",
       "      <td>Международная сеть Школ скорочтения и развития...</td>\n",
       "      <td>['Навыки межличностного общения', 'Грамотная р...</td>\n",
       "      <td>50000.0</td>\n",
       "      <td>менеджер администраторотый год год навык межли...</td>\n",
       "    </tr>\n",
       "    <tr>\n",
       "      <th>4</th>\n",
       "      <td>Комплектовщик</td>\n",
       "      <td>Нет опыта</td>\n",
       "      <td>Мы прямой работодатель - компания «Форум-Авто»...</td>\n",
       "      <td>['1С: Склад', 'Работа с оргтехникой', 'Приемка...</td>\n",
       "      <td>53500.0</td>\n",
       "      <td>комплектовщикнуть опыт склад работа оргтехника...</td>\n",
       "    </tr>\n",
       "  </tbody>\n",
       "</table>\n",
       "</div>"
      ],
      "text/plain": [
       "                                  name          experience  \\\n",
       "0                  Водитель-экспедитор       От 3 до 6 лет   \n",
       "1  Кладовщик-комплектовщик/оператор 1С  От 1 года до 3 лет   \n",
       "2     Администратор магазина (ТЦ Spar)  От 1 года до 3 лет   \n",
       "3               Менеджер-администратор  От 1 года до 3 лет   \n",
       "4                        Комплектовщик           Нет опыта   \n",
       "\n",
       "                                         description  \\\n",
       "0  Водитель-экспедитор категории В,С (а\\м ГАЗЕЛЬ ...   \n",
       "1  Обязанности:   Списывание материалов в произво...   \n",
       "2  Крупная федеральная сеть магазинов мужской и ж...   \n",
       "3  Международная сеть Школ скорочтения и развития...   \n",
       "4  Мы прямой работодатель - компания «Форум-Авто»...   \n",
       "\n",
       "                                          key_skills   salary  \\\n",
       "0                                                 []  42500.0   \n",
       "1  ['знание пк', 'работа в 1С', 'Работа в команде...  50000.0   \n",
       "2                                                 []  36700.0   \n",
       "3  ['Навыки межличностного общения', 'Грамотная р...  50000.0   \n",
       "4  ['1С: Склад', 'Работа с оргтехникой', 'Приемка...  53500.0   \n",
       "\n",
       "                                   preprocessed_text  \n",
       "0  водитель экспедиторотый год водитель экспедито...  \n",
       "1  кладовщик комплектовщик оператор 1сотня год го...  \n",
       "2  администратор магазин spar год год крупный фед...  \n",
       "3  менеджер администраторотый год год навык межли...  \n",
       "4  комплектовщикнуть опыт склад работа оргтехника...  "
      ]
     },
     "execution_count": 85,
     "metadata": {},
     "output_type": "execute_result"
    }
   ],
   "source": [
    "df.head()"
   ]
  },
  {
   "cell_type": "markdown",
   "id": "43d8fd43",
   "metadata": {},
   "source": [
    "## 3. Splitting the data to train and text parts"
   ]
  },
  {
   "cell_type": "code",
   "execution_count": 142,
   "id": "027065cc",
   "metadata": {},
   "outputs": [],
   "source": [
    "X = df[['preprocessed_text']]\n",
    "y = df['salary']"
   ]
  },
  {
   "cell_type": "code",
   "execution_count": 144,
   "id": "66c5fb3e",
   "metadata": {},
   "outputs": [],
   "source": [
    "X_train, X_test, y_train, y_test = train_test_split(X, y, test_size = 0.33, random_state=RANDOM_STATE)"
   ]
  },
  {
   "cell_type": "markdown",
   "id": "ce193805",
   "metadata": {},
   "source": [
    "## 4. Word2Vec"
   ]
  },
  {
   "cell_type": "markdown",
   "id": "764a54ec",
   "metadata": {},
   "source": [
    "### 4.1. Model creation"
   ]
  },
  {
   "cell_type": "code",
   "execution_count": 146,
   "id": "3c530763",
   "metadata": {},
   "outputs": [],
   "source": [
    "w2v_model = Word2Vec(sentences=list(X_train.preprocessed_text.str.split()),\n",
    "                     vector_size=100, window=5, workers=4)"
   ]
  },
  {
   "cell_type": "code",
   "execution_count": 147,
   "id": "704dfc1a",
   "metadata": {},
   "outputs": [],
   "source": [
    "w2v_vectors = w2v_model.wv"
   ]
  },
  {
   "cell_type": "code",
   "execution_count": 148,
   "id": "1607fe11",
   "metadata": {},
   "outputs": [
    {
     "data": {
      "text/plain": [
       "array([-0.14955054,  0.00945816, -0.03536884,  0.12875876, -0.17307527,\n",
       "       -0.2692149 ,  0.0770104 ,  0.2716321 , -0.18534215, -0.00936239,\n",
       "       -0.09816696, -0.4572544 , -0.01998047,  0.25256613, -0.023094  ,\n",
       "       -0.13977861, -0.13116325, -0.39053723,  0.03947489, -0.51389813,\n",
       "        0.13329609, -0.05993352,  0.06031588,  0.08058845, -0.15699501,\n",
       "       -0.06588686, -0.04421274, -0.15666427, -0.05170143, -0.12460033,\n",
       "        0.14047924, -0.04991068,  0.13267279, -0.23613992, -0.05740635,\n",
       "        0.17647378,  0.2542776 ,  0.15262175, -0.01372419, -0.17474814,\n",
       "        0.16109367, -0.29260394,  0.07559162,  0.14556085,  0.23750968,\n",
       "        0.14870279, -0.43615264, -0.06820034,  0.05571977,  0.35019106,\n",
       "        0.3303765 ,  0.02422653,  0.06773449,  0.16808869, -0.16379026,\n",
       "        0.09390909,  0.25188679,  0.03237556, -0.11767698,  0.15884925,\n",
       "        0.168076  ,  0.27109346, -0.19104835, -0.27841127, -0.23198807,\n",
       "        0.12639017,  0.10926467,  0.02927609, -0.22596124,  0.26075926,\n",
       "       -0.01924245, -0.00481179,  0.17341481, -0.09596229,  0.32067442,\n",
       "        0.02983161, -0.06110698,  0.06129308,  0.07532275, -0.01132851,\n",
       "       -0.0474309 , -0.08694051, -0.20433792,  0.17646489, -0.1439525 ,\n",
       "       -0.01514045, -0.1592583 , -0.12543687,  0.34825835,  0.11250027,\n",
       "        0.1903316 , -0.14556113, -0.08126809,  0.10332568,  0.01565501,\n",
       "        0.23919794, -0.04014515, -0.39847794, -0.07216959,  0.02628132],\n",
       "      dtype=float32)"
      ]
     },
     "execution_count": 148,
     "metadata": {},
     "output_type": "execute_result"
    }
   ],
   "source": [
    "w2v_vectors['учитель'] # check that the model works"
   ]
  },
  {
   "cell_type": "code",
   "execution_count": 149,
   "id": "f5b61989",
   "metadata": {},
   "outputs": [
    {
     "data": {
      "text/plain": [
       "(7968, 100)"
      ]
     },
     "execution_count": 149,
     "metadata": {},
     "output_type": "execute_result"
    }
   ],
   "source": [
    "w2v_vectors.vectors.shape"
   ]
  },
  {
   "cell_type": "markdown",
   "id": "7b4afd21",
   "metadata": {},
   "source": [
    "### 4.2. Embedding averaging"
   ]
  },
  {
   "cell_type": "code",
   "execution_count": 150,
   "id": "bf62359f",
   "metadata": {},
   "outputs": [
    {
     "name": "stderr",
     "output_type": "stream",
     "text": [
      "100%|██████████| 11090/11090 [00:05<00:00, 1891.94it/s]\n"
     ]
    }
   ],
   "source": [
    "vectors_train = []\n",
    "row = 0\n",
    "\n",
    "for doc in tqdm(df.preprocessed_text.str.split()):\n",
    "    res = np.zeros(100)\n",
    "    cnt = 0\n",
    "    for word in doc:\n",
    "        if w2v_vectors.__contains__(word):\n",
    "            res += w2v_model.wv[word]\n",
    "            cnt += 1\n",
    "    if cnt != 0:\n",
    "        res /= cnt\n",
    "    vectors_train.append(res)\n",
    "\n",
    "vectors_train = np.array(vectors_train)"
   ]
  },
  {
   "cell_type": "code",
   "execution_count": 151,
   "id": "30706bf1",
   "metadata": {},
   "outputs": [
    {
     "name": "stderr",
     "output_type": "stream",
     "text": [
      "100%|██████████| 11090/11090 [00:07<00:00, 1483.04it/s]\n"
     ]
    }
   ],
   "source": [
    "vectors_test = []\n",
    "row = 0\n",
    "\n",
    "for doc in tqdm(df.preprocessed_text.str.split()):\n",
    "    res = np.zeros(100)\n",
    "    cnt = 0\n",
    "    for word in doc:\n",
    "        if w2v_vectors.__contains__(word):\n",
    "            res += w2v_model.wv[word]\n",
    "            cnt += 1\n",
    "    if cnt != 0:\n",
    "        res /= cnt\n",
    "    vectors_test.append(res)\n",
    "\n",
    "vectors_test = np.array(vectors_test)"
   ]
  },
  {
   "cell_type": "markdown",
   "id": "602333af",
   "metadata": {},
   "source": [
    "## 5. Salary prediction"
   ]
  },
  {
   "cell_type": "markdown",
   "id": "2ccfcf57",
   "metadata": {},
   "source": [
    "### 5.1. Linear regression"
   ]
  },
  {
   "cell_type": "code",
   "execution_count": 175,
   "id": "507ca681",
   "metadata": {},
   "outputs": [],
   "source": [
    "linear = LinearRegression()"
   ]
  },
  {
   "cell_type": "code",
   "execution_count": 176,
   "id": "4e6492e5",
   "metadata": {},
   "outputs": [
    {
     "data": {
      "text/plain": [
       "LinearRegression()"
      ]
     },
     "execution_count": 176,
     "metadata": {},
     "output_type": "execute_result"
    }
   ],
   "source": [
    "linear.fit(vectors_train, df.salary)"
   ]
  },
  {
   "cell_type": "code",
   "execution_count": 177,
   "id": "9f56bdcc",
   "metadata": {},
   "outputs": [],
   "source": [
    "y_pred_lin = linear.predict(vectors_test)"
   ]
  },
  {
   "cell_type": "code",
   "execution_count": 178,
   "id": "7bbf69b7",
   "metadata": {},
   "outputs": [],
   "source": [
    "predictions_lin = pd.DataFrame({'vacancy_name': df.name, 'salary': df.salary, 'salary_pred': y_pred_lin})"
   ]
  },
  {
   "cell_type": "code",
   "execution_count": 179,
   "id": "19eed451",
   "metadata": {},
   "outputs": [
    {
     "data": {
      "text/html": [
       "<div>\n",
       "<style scoped>\n",
       "    .dataframe tbody tr th:only-of-type {\n",
       "        vertical-align: middle;\n",
       "    }\n",
       "\n",
       "    .dataframe tbody tr th {\n",
       "        vertical-align: top;\n",
       "    }\n",
       "\n",
       "    .dataframe thead th {\n",
       "        text-align: right;\n",
       "    }\n",
       "</style>\n",
       "<table border=\"1\" class=\"dataframe\">\n",
       "  <thead>\n",
       "    <tr style=\"text-align: right;\">\n",
       "      <th></th>\n",
       "      <th>vacancy_name</th>\n",
       "      <th>salary</th>\n",
       "      <th>salary_pred</th>\n",
       "    </tr>\n",
       "  </thead>\n",
       "  <tbody>\n",
       "    <tr>\n",
       "      <th>0</th>\n",
       "      <td>Водитель-экспедитор</td>\n",
       "      <td>42500.0</td>\n",
       "      <td>49161.492085</td>\n",
       "    </tr>\n",
       "    <tr>\n",
       "      <th>1</th>\n",
       "      <td>Кладовщик-комплектовщик/оператор 1С</td>\n",
       "      <td>50000.0</td>\n",
       "      <td>49476.290101</td>\n",
       "    </tr>\n",
       "    <tr>\n",
       "      <th>2</th>\n",
       "      <td>Администратор магазина (ТЦ Spar)</td>\n",
       "      <td>36700.0</td>\n",
       "      <td>52789.768432</td>\n",
       "    </tr>\n",
       "    <tr>\n",
       "      <th>3</th>\n",
       "      <td>Менеджер-администратор</td>\n",
       "      <td>50000.0</td>\n",
       "      <td>57080.031321</td>\n",
       "    </tr>\n",
       "    <tr>\n",
       "      <th>4</th>\n",
       "      <td>Комплектовщик</td>\n",
       "      <td>53500.0</td>\n",
       "      <td>59624.353858</td>\n",
       "    </tr>\n",
       "  </tbody>\n",
       "</table>\n",
       "</div>"
      ],
      "text/plain": [
       "                          vacancy_name   salary   salary_pred\n",
       "0                  Водитель-экспедитор  42500.0  49161.492085\n",
       "1  Кладовщик-комплектовщик/оператор 1С  50000.0  49476.290101\n",
       "2     Администратор магазина (ТЦ Spar)  36700.0  52789.768432\n",
       "3               Менеджер-администратор  50000.0  57080.031321\n",
       "4                        Комплектовщик  53500.0  59624.353858"
      ]
     },
     "execution_count": 179,
     "metadata": {},
     "output_type": "execute_result"
    }
   ],
   "source": [
    "predictions_lin.head()"
   ]
  },
  {
   "cell_type": "code",
   "execution_count": 183,
   "id": "3661f5a0",
   "metadata": {},
   "outputs": [],
   "source": [
    "predictions_lin.to_csv('pred_results/predicted_salaries_linear.csv', index=False)"
   ]
  },
  {
   "cell_type": "code",
   "execution_count": 196,
   "id": "0a6b66a4",
   "metadata": {},
   "outputs": [
    {
     "data": {
      "text/plain": [
       "<AxesSubplot:ylabel='Density'>"
      ]
     },
     "execution_count": 196,
     "metadata": {},
     "output_type": "execute_result"
    },
    {
     "data": {
      "image/png": "[encoded data removed]",
      "text/plain": [
       "<Figure size 640x480 with 1 Axes>"
      ]
     },
     "metadata": {},
     "output_type": "display_data"
    }
   ],
   "source": [
    "sns.kdeplot(data=predictions_lin)"
   ]
  },
  {
   "cell_type": "markdown",
   "id": "a5c2a274",
   "metadata": {},
   "source": [
    "### 5.2. Lasso"
   ]
  },
  {
   "cell_type": "code",
   "execution_count": 156,
   "id": "7534faca",
   "metadata": {},
   "outputs": [
    {
     "data": {
      "text/plain": [
       "Lasso(max_iter=10000)"
      ]
     },
     "execution_count": 156,
     "metadata": {},
     "output_type": "execute_result"
    }
   ],
   "source": [
    "lasso = Lasso(max_iter=10_000)\n",
    "lasso.fit(vectors_train, df.salary)"
   ]
  },
  {
   "cell_type": "code",
   "execution_count": 157,
   "id": "f7c922a8",
   "metadata": {},
   "outputs": [],
   "source": [
    "y_pred = lasso.predict(vectors_test)"
   ]
  },
  {
   "cell_type": "code",
   "execution_count": 169,
   "id": "f44e7bdd",
   "metadata": {},
   "outputs": [],
   "source": [
    "predictions = pd.DataFrame({'vacancy_name': df.name, 'salary': df.salary, 'salary_pred': y_pred})"
   ]
  },
  {
   "cell_type": "code",
   "execution_count": 171,
   "id": "040cd5ed",
   "metadata": {},
   "outputs": [
    {
     "data": {
      "text/html": [
       "<div>\n",
       "<style scoped>\n",
       "    .dataframe tbody tr th:only-of-type {\n",
       "        vertical-align: middle;\n",
       "    }\n",
       "\n",
       "    .dataframe tbody tr th {\n",
       "        vertical-align: top;\n",
       "    }\n",
       "\n",
       "    .dataframe thead th {\n",
       "        text-align: right;\n",
       "    }\n",
       "</style>\n",
       "<table border=\"1\" class=\"dataframe\">\n",
       "  <thead>\n",
       "    <tr style=\"text-align: right;\">\n",
       "      <th></th>\n",
       "      <th>vacancy_name</th>\n",
       "      <th>salary</th>\n",
       "      <th>salary_pred</th>\n",
       "    </tr>\n",
       "  </thead>\n",
       "  <tbody>\n",
       "    <tr>\n",
       "      <th>0</th>\n",
       "      <td>Водитель-экспедитор</td>\n",
       "      <td>42500.0</td>\n",
       "      <td>49814.409405</td>\n",
       "    </tr>\n",
       "    <tr>\n",
       "      <th>1</th>\n",
       "      <td>Кладовщик-комплектовщик/оператор 1С</td>\n",
       "      <td>50000.0</td>\n",
       "      <td>49860.484897</td>\n",
       "    </tr>\n",
       "    <tr>\n",
       "      <th>2</th>\n",
       "      <td>Администратор магазина (ТЦ Spar)</td>\n",
       "      <td>36700.0</td>\n",
       "      <td>53247.946735</td>\n",
       "    </tr>\n",
       "    <tr>\n",
       "      <th>3</th>\n",
       "      <td>Менеджер-администратор</td>\n",
       "      <td>50000.0</td>\n",
       "      <td>56641.485579</td>\n",
       "    </tr>\n",
       "    <tr>\n",
       "      <th>4</th>\n",
       "      <td>Комплектовщик</td>\n",
       "      <td>53500.0</td>\n",
       "      <td>59241.427645</td>\n",
       "    </tr>\n",
       "  </tbody>\n",
       "</table>\n",
       "</div>"
      ],
      "text/plain": [
       "                          vacancy_name   salary   salary_pred\n",
       "0                  Водитель-экспедитор  42500.0  49814.409405\n",
       "1  Кладовщик-комплектовщик/оператор 1С  50000.0  49860.484897\n",
       "2     Администратор магазина (ТЦ Spar)  36700.0  53247.946735\n",
       "3               Менеджер-администратор  50000.0  56641.485579\n",
       "4                        Комплектовщик  53500.0  59241.427645"
      ]
     },
     "execution_count": 171,
     "metadata": {},
     "output_type": "execute_result"
    }
   ],
   "source": [
    "predictions.head()"
   ]
  },
  {
   "cell_type": "code",
   "execution_count": 184,
   "id": "7c6bfb2a",
   "metadata": {},
   "outputs": [],
   "source": [
    "predictions.to_csv('pred_results/predicted_salaries_Lasso.csv', index=False)"
   ]
  },
  {
   "cell_type": "code",
   "execution_count": 197,
   "id": "bfb1af9d",
   "metadata": {},
   "outputs": [
    {
     "data": {
      "text/plain": [
       "<AxesSubplot:ylabel='Density'>"
      ]
     },
     "execution_count": 197,
     "metadata": {},
     "output_type": "execute_result"
    },
    {
     "data": {
      "image/png": "[encoded data removed]",
      "text/plain": [
       "<Figure size 640x480 with 1 Axes>"
      ]
     },
     "metadata": {},
     "output_type": "display_data"
    }
   ],
   "source": [
    "sns.kdeplot(data=predictions)"
   ]
  }
 ],
 "metadata": {
  "kernelspec": {
   "display_name": "Python 3 (ipykernel)",
   "language": "python",
   "name": "python3"
  },
  "language_info": {
   "codemirror_mode": {
    "name": "ipython",
    "version": 3
   },
   "file_extension": ".py",
   "mimetype": "text/x-python",
   "name": "python",
   "nbconvert_exporter": "python",
   "pygments_lexer": "ipython3",
   "version": "3.9.13"
  }
 },
 "nbformat": 4,
 "nbformat_minor": 5
}
